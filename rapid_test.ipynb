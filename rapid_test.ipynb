{
 "cells": [
  {
   "cell_type": "code",
   "execution_count": 5,
   "metadata": {},
   "outputs": [
    {
     "name": "stderr",
     "output_type": "stream",
     "text": [
      "Some weights of BertForSequenceClassification were not initialized from the model checkpoint at bert-base-uncased and are newly initialized: ['classifier.bias', 'classifier.weight']\n",
      "You should probably TRAIN this model on a down-stream task to be able to use it for predictions and inference.\n"
     ]
    }
   ],
   "source": [
    "import torch\n",
    "from transformers import AutoTokenizer, AutoModelForSequenceClassification\n",
    "from torch.utils.data import DataLoader, TensorDataset, random_split\n",
    "from sklearn.model_selection import train_test_split\n",
    "\n",
    "# Load the pre-trained BERT model and tokenizer.\n",
    "tokenizer = AutoTokenizer.from_pretrained('bert-base-uncased')\n",
    "model = AutoModelForSequenceClassification.from_pretrained('bert-base-uncased', num_labels=2)\n"
   ]
  },
  {
   "cell_type": "code",
   "execution_count": 8,
   "metadata": {},
   "outputs": [],
   "source": [
    "# Prepare data\n",
    "data = [\"madam\", \"apple\", \"racecar\", \"hello\", \"level\"]  # Sample data\n",
    "labels = [1, 0, 1, 0, 1]  # 1 for palindrome, 0 for not\n",
    "\n",
    "# Tokenize data\n",
    "tokens = tokenizer(data, padding=True, truncation=True, return_tensors=\"pt\")\n",
    "input_ids, attention_mask = tokens['input_ids'], tokens['attention_mask']\n",
    "labels = torch.tensor(labels)\n",
    "\n",
    "# Split data into training and validation sets\n",
    "train_inputs, val_inputs, train_masks, val_masks, train_labels, val_labels = train_test_split(\n",
    "    input_ids, attention_mask, labels, test_size=0.1, random_state=42)\n",
    "\n",
    "# Create TensorDatasets\n",
    "train_dataset = TensorDataset(train_inputs, train_masks, train_labels)\n",
    "val_dataset = TensorDataset(val_inputs, val_masks, val_labels)\n",
    "\n",
    "# Create DataLoaders\n",
    "train_loader = DataLoader(train_dataset, batch_size=4, shuffle=True)\n",
    "val_loader = DataLoader(val_dataset, batch_size=4, shuffle=False)"
   ]
  },
  {
   "cell_type": "code",
   "execution_count": 10,
   "metadata": {},
   "outputs": [
    {
     "name": "stdout",
     "output_type": "stream",
     "text": [
      "Epoch 1, Loss: 0.3131941854953766, Accuracy: 1.0\n",
      "Epoch 2, Loss: 0.3350169062614441, Accuracy: 1.0\n",
      "Epoch 3, Loss: 0.3573446571826935, Accuracy: 1.0\n",
      "Training complete.\n"
     ]
    }
   ],
   "source": [
    "# Define an optimizer\n",
    "optimizer = torch.optim.Adam(model.parameters(), lr=1e-5)\n",
    "\n",
    "# Training loop\n",
    "for epoch in range(3):  # Loop over the dataset multiple times\n",
    "    model.train()\n",
    "    for batch in train_loader:\n",
    "        inputs, masks, labels = batch\n",
    "        outputs = model(input_ids=inputs, attention_mask=masks, labels=labels)\n",
    "        loss = outputs.loss\n",
    "        logits = outputs.logits\n",
    "\n",
    "        # Backward pass and optimization\n",
    "        loss.backward()\n",
    "        optimizer.step()\n",
    "        optimizer.zero_grad()\n",
    "\n",
    "    # Validation loop\n",
    "    model.eval()\n",
    "    val_loss = 0\n",
    "    val_accuracy = 0\n",
    "    with torch.no_grad():\n",
    "        for batch in val_loader:\n",
    "            inputs, masks, labels = batch\n",
    "            outputs = model(input_ids=inputs, attention_mask=masks, labels=labels)\n",
    "            loss = outputs.loss\n",
    "            logits = outputs.logits\n",
    "\n",
    "            val_loss += loss.item()\n",
    "            predictions = torch.argmax(logits, dim=1)\n",
    "            val_accuracy += (predictions == labels).sum().item() / len(labels)\n",
    "\n",
    "    print(f\"Epoch {epoch+1}, Loss: {val_loss/len(val_loader)}, Accuracy: {val_accuracy/len(val_loader)}\")\n",
    "\n",
    "print(\"Training complete.\")"
   ]
  }
 ],
 "metadata": {
  "kernelspec": {
   "display_name": "Python 3",
   "language": "python",
   "name": "python3"
  },
  "language_info": {
   "codemirror_mode": {
    "name": "ipython",
    "version": 3
   },
   "file_extension": ".py",
   "mimetype": "text/x-python",
   "name": "python",
   "nbconvert_exporter": "python",
   "pygments_lexer": "ipython3",
   "version": "3.9.6"
  }
 },
 "nbformat": 4,
 "nbformat_minor": 2
}
